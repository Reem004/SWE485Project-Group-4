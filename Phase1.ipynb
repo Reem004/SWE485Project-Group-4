{
 "cells": [
  {
   "cell_type": "code",
   "execution_count": null,
   "id": "5b6bca20-a86c-4256-a129-6b3e0395db88",
   "metadata": {},
   "outputs": [],
   "source": [
    "# Phase 1: Problem Understanding and Data Exploration\n",
    "## SW485 - Machine Learning Project\n",
    "### Medical Diagnosis System\n",
    "\n",
    "**Group Members:**\n",
    "- Shahad Alsabui - ID: 444\n",
    "- Sarah Alomran - ID: 444200911\n",
    "- Reem Al Mutlaq - ID: 444200533\n",
    "- Shadn Alsaif - ID: 443201150\n",
    "- Mashael Albgomi\n",
    "- ID: 44202218\n",
    "\n",
    "**Date:** October 2025"
   ]
  },
  {
   "cell_type": "code",
   "execution_count": null,
   "id": "c46853af-8e83-414e-a057-da75a1f823ac",
   "metadata": {},
   "outputs": [],
   "source": [
    "---\n",
    "## Section 1: Import Libraries and Load Data"
   ]
  },
  {
   "cell_type": "code",
   "execution_count": null,
   "id": "64e25e7a-2bf5-4de6-9e99-0dbc5e325fde",
   "metadata": {},
   "outputs": [],
   "source": [
    "import pandas as pd\n",
    "import numpy as np\n",
    "import matplotlib.pyplot as plt\n",
    "import seaborn as sns\n",
    "import warnings\n",
    "warnings.filterwarnings('ignore')\n",
    "sns.set_style('whitegrid')\n",
    "plt.rcParams['figure.figsize'] = (12, 6)\n",
    "print(\"Libraries imported successfully\")"
   ]
  },
  {
   "cell_type": "code",
   "execution_count": null,
   "id": "20498683-1822-40c4-984f-772ad5dda57d",
   "metadata": {},
   "outputs": [],
   "source": [
    "df = pd.read_csv('Dataset/your_filename.csv')\n",
    "\n",
    "print(\"Dataset loaded successfully\")\n",
    "print(f\"Shape: {df.shape}\")"
   ]
  },
  {
   "cell_type": "code",
   "execution_count": null,
   "id": "52708d1b-ea94-4d4f-b0fe-b28492718be3",
   "metadata": {},
   "outputs": [],
   "source": [
    "---\n",
    "## Section 2: Dataset Goal & Source\n",
    "\n",
    "### Dataset Information\n",
    "\n",
    "**Goal:**\n",
    "This dataset is used to build a disease prediction system that can:\n",
    "1. Identify potential diseases based on patient symptoms\n",
    "2. Recommend appropriate medical specialists\n",
    "3. Provide preliminary diagnostic guidance\n",
    "\n",
    "**Source:**\n",
    "[Kaggle - Diseases and Symptoms Dataset](https://www.kaggle.com/datasets/dhivyeshrk/diseases-and-symptoms-dataset)\n",
    "\n",
    "**Application Domain:** Healthcare - Medical Diagnosis\n",
    "\n",
    "**Purpose:**\n",
    "- Early disease detection\n",
    "- Reducing diagnostic time\n",
    "- Improving patient outcomes\n",
    "- Optimizing healthcare resource allocation"
   ]
  },
  {
   "cell_type": "code",
   "execution_count": null,
   "id": "27bc5589-e10c-4fba-83e3-3eeac4075950",
   "metadata": {},
   "outputs": [],
   "source": [
    "---\n",
    "## Section 3: General Information"
   ]
  },
  {
   "cell_type": "code",
   "execution_count": null,
   "id": "62cff991-596f-464d-8778-5cc7bd326c63",
   "metadata": {},
   "outputs": [],
   "source": [
    "print(\"=\"*70)\n",
    "print(\"DATASET OVERVIEW\")\n",
    "print(\"=\"*70)\n",
    "\n",
    "# Basic information\n",
    "print(f\"\\n1. Dataset Dimensions:\")\n",
    "print(f\"   - Number of observations (rows): {df.shape[0]}\")\n",
    "print(f\"   - Number of features (columns): {df.shape[1]}\")"
   ]
  },
  {
   "cell_type": "code",
   "execution_count": null,
   "id": "905f4081-8eed-4a36-b8c5-0153848af858",
   "metadata": {},
   "outputs": [],
   "source": [
    "print(f\"\\n2. Column Names:\")\n",
    "for i, col in enumerate(df.columns, 1):\n",
    "    print(f\"   {i}. {col}\")"
   ]
  },
  {
   "cell_type": "code",
   "execution_count": null,
   "id": "419a7735-fa5f-40ce-b161-95f400ec74fd",
   "metadata": {},
   "outputs": [],
   "source": [
    "print(f\"\\n3. Data Types:\")\n",
    "print(df.dtypes)"
   ]
  },
  {
   "cell_type": "code",
   "execution_count": null,
   "id": "03fda0e5-6e3e-4915-9e07-ea2fdc829b62",
   "metadata": {},
   "outputs": [],
   "source": [
    "print(f\"\\n4. First 10 rows:\")\n",
    "display(df.head(10))\n",
    "\n",
    "print(f\"\\n5. Last 10 rows:\")\n",
    "display(df.tail(10))"
   ]
  },
  {
   "cell_type": "code",
   "execution_count": null,
   "id": "e2be62a0-488a-4d7c-a8b6-d28126786245",
   "metadata": {},
   "outputs": [],
   "source": [
    "# Common names: 'Disease', 'disease', 'prognosis', 'Disease_Name'\n",
    "if 'Disease' in df.columns:\n",
    "    target_col = 'Disease'\n",
    "elif 'disease' in df.columns:\n",
    "    target_col = 'disease'\n",
    "elif 'prognosis' in df.columns:\n",
    "    target_col = 'prognosis'\n",
    "else:\n",
    "    print(\"Available columns:\")\n",
    "    print(df.columns.tolist())\n",
    "    target_col = df.columns[-1]  # Assume last column\n",
    "    print(f\"\\nAssuming target column is: {target_col}\")\n",
    "\n",
    "print(f\"\\n6. Target Variable: '{target_col}'\")\n",
    "print(f\"   - Number of unique diseases: {df[target_col].nunique()}\")\n",
    "print(f\"\\n   - Disease distribution:\\n\")\n",
    "print(df[target_col].value_counts())"
   ]
  },
  {
   "cell_type": "code",
   "execution_count": null,
   "id": "e834a0d6-5eed-4a04-8d16-82284ede822d",
   "metadata": {},
   "outputs": [],
   "source": [
    "print(f\"\\n7. Basic Statistics:\")\n",
    "display(df.describe(include='all'))"
   ]
  },
  {
   "cell_type": "code",
   "execution_count": null,
   "id": "bfe389c1-af58-491a-afb3-8f440f2245c5",
   "metadata": {},
   "outputs": [],
   "source": [
    "print(\"\\n8. Dataset Information:\")\n",
    "df.info()"
   ]
  },
  {
   "cell_type": "code",
   "execution_count": null,
   "id": "fd6d9f61-ad7d-4e18-a88b-e568a19d62ed",
   "metadata": {},
   "outputs": [],
   "source": [
    "---\n",
    "## Section 4: Summary & Visualization\n",
    "\n",
    "### 4.1 Missing Values Analysis"
   ]
  },
  {
   "cell_type": "code",
   "execution_count": null,
   "id": "a8d00962-3c0a-4a91-82ab-cda57ad62475",
   "metadata": {},
   "outputs": [],
   "source": [
    "print(\"\\n\" + \"=\"*70)\n",
    "print(\"MISSING VALUES ANALYSIS\")\n",
    "print(\"=\"*70)\n",
    "\n",
    "missing_values = df.isnull().sum()\n",
    "missing_percentage = (missing_values / len(df)) * 100\n",
    "missing_df = pd.DataFrame({\n",
    "    'Column': missing_values.index,\n",
    "    'Missing_Count': missing_values.values,\n",
    "    'Missing_Percentage': missing_percentage.values\n",
    "})\n",
    "missing_df = missing_df[missing_df['Missing_Count'] > 0].sort_values('Missing_Count', ascending=False)\n",
    "\n",
    "print(\"\\nMissing Values Summary:\")\n",
    "if len(missing_df) > 0:\n",
    "    display(missing_df)\n",
    "else:\n",
    "    print(\"✓ No missing values found!\")"
   ]
  },
  {
   "cell_type": "code",
   "execution_count": null,
   "id": "bfedb847-62bf-4ee3-9c7c-e0438c33d0af",
   "metadata": {},
   "outputs": [],
   "source": [
    "# Visualize missing values\n",
    "plt.figure(figsize=(14, 6))\n",
    "sns.heatmap(df.isnull(), cbar=True, cmap='viridis', yticklabels=False)\n",
    "plt.title('Missing Values Heatmap', fontsize=16, fontweight='bold')\n",
    "plt.xlabel('Columns', fontsize=12)\n",
    "plt.tight_layout()\n",
    "plt.show()"
   ]
  },
  {
   "cell_type": "code",
   "execution_count": null,
   "id": "432e7e9e-983e-4962-8fc6-b9460228eda4",
   "metadata": {},
   "outputs": [],
   "source": [
    "### 4.2 Class Distribution (Target Variable)"
   ]
  },
  {
   "cell_type": "code",
   "execution_count": null,
   "id": "120e9eff-94fc-4708-b832-7ce205ce5bb0",
   "metadata": {},
   "outputs": [],
   "source": [
    "print(\"\\n\" + \"=\"*70)\n",
    "print(\"CLASS DISTRIBUTION\")\n",
    "print(\"=\"*70)\n",
    "\n",
    "disease_counts = df[target_col].value_counts()\n",
    "print(f\"\\nDisease distribution:\")\n",
    "print(disease_counts)"
   ]
  },
  {
   "cell_type": "code",
   "execution_count": null,
   "id": "6130aa17-e939-4c25-9fbd-5b590d98505e",
   "metadata": {},
   "outputs": [],
   "source": [
    "# Plot class distribution\n",
    "plt.figure(figsize=(14, 8))\n",
    "disease_counts.plot(kind='bar', color='skyblue', edgecolor='black')\n",
    "plt.title('Distribution of Diseases in Dataset', fontsize=16, fontweight='bold')\n",
    "plt.xlabel('Disease', fontsize=12)\n",
    "plt.ylabel('Number of Samples', fontsize=12)\n",
    "plt.xticks(rotation=45, ha='right')\n",
    "plt.grid(axis='y', alpha=0.3)\n",
    "plt.tight_layout()\n",
    "plt.show()"
   ]
  },
  {
   "cell_type": "code",
   "execution_count": null,
   "id": "cf375beb-968b-4c58-a135-b11bda935a0c",
   "metadata": {},
   "outputs": [],
   "source": [
    "# Check for class imbalance\n",
    "print(f\"\\nClass Imbalance Analysis:\")\n",
    "print(f\"Most common disease: {disease_counts.idxmax()} ({disease_counts.max()} samples)\")\n",
    "print(f\"Least common disease: {disease_counts.idxmin()} ({disease_counts.min()} samples)\")\n",
    "imbalance_ratio = disease_counts.max() / disease_counts.min()\n",
    "print(f\"Imbalance ratio: {imbalance_ratio:.2f}:1\")\n",
    "\n",
    "if imbalance_ratio > 3:\n",
    "    print(\"\\n⚠ Warning: Significant class imbalance detected!\")\n",
    "    print(\"   This may require special handling in Phase 2\")\n",
    "else:\n",
    "    print(\"\\n✓ Classes are relatively balanced\")"
   ]
  },
  {
   "cell_type": "code",
   "execution_count": null,
   "id": "c2cbfbf0-d0f9-42b7-9a35-6f61c70c3aad",
   "metadata": {},
   "outputs": [],
   "source": [
    "### 4.3 Statistical Summary"
   ]
  },
  {
   "cell_type": "code",
   "execution_count": null,
   "id": "d8e0877c-3c00-4314-b5e6-1336d63c26d6",
   "metadata": {},
   "outputs": [],
   "source": [
    "print(\"\\n\" + \"=\"*70)\n",
    "print(\"STATISTICAL SUMMARY\")\n",
    "print(\"=\"*70)\n",
    "\n",
    "# Get symptom columns\n",
    "symptom_cols = [col for col in df.columns if col != target_col]\n",
    "\n",
    "print(f\"\\nNumber of symptom features: {len(symptom_cols)}\")\n",
    "print(f\"\\nSample symptom columns (first 15):\")\n",
    "for col in symptom_cols[:15]:\n",
    "    print(f\"  - {col}\")"
   ]
  },
  {
   "cell_type": "code",
   "execution_count": null,
   "id": "d4f0a083-7189-4062-86ce-55bf7951f1d3",
   "metadata": {},
   "outputs": [],
   "source": [
    "# Check if symptoms are numerical\n",
    "if df[symptom_cols].dtypes[0] in ['int64', 'float64', 'int32', 'float32']:\n",
    "    print(\"\\n\\nStatistical Summary of Symptoms:\")\n",
    "    display(df[symptom_cols].describe())\n",
    "    \n",
    "    # Symptom frequency\n",
    "    print(\"\\n\\nMost Common Symptoms:\")\n",
    "    symptom_sums = df[symptom_cols].sum().sort_values(ascending=False)\n",
    "    display(symptom_sums.head(15))\n",
    "else:\n",
    "    print(\"\\nSymptoms appear to be non-numerical.\")\n",
    "    print(\"Data types:\", df[symptom_cols].dtypes.value_counts())"
   ]
  },
  {
   "cell_type": "code",
   "execution_count": null,
   "id": "0f8cab30-1162-442a-90b0-4514d0a3bd86",
   "metadata": {},
   "outputs": [],
   "source": [
    "# Visualize top symptoms numericaly\n",
    "if df[symptom_cols].dtypes[0] in ['int64', 'float64', 'int32', 'float32']:\n",
    "    symptom_sums = df[symptom_cols].sum().sort_values(ascending=False)\n",
    "    \n",
    "    plt.figure(figsize=(12, 8))\n",
    "    symptom_sums.head(20).plot(kind='barh', color='coral', edgecolor='black')\n",
    "    plt.title('Top 20 Most Frequent Symptoms', fontsize=16, fontweight='bold')\n",
    "    plt.xlabel('Frequency', fontsize=12)\n",
    "    plt.ylabel('Symptom', fontsize=12)\n",
    "    plt.grid(axis='x', alpha=0.3)\n",
    "    plt.tight_layout()\n",
    "    plt.show()"
   ]
  },
  {
   "cell_type": "code",
   "execution_count": null,
   "id": "6dd3d8fc-556f-4125-aff5-2e27d680f771",
   "metadata": {},
   "outputs": [],
   "source": [
    "### 4.4 Correlation Analysis"
   ]
  },
  {
   "cell_type": "code",
   "execution_count": null,
   "id": "6c2ee393-a86b-4ebc-9246-3a18a18337df",
   "metadata": {},
   "outputs": [],
   "source": [
    "# Correlation analysis (if applicable)\n",
    "if df[symptom_cols].dtypes[0] in ['int64', 'float64', 'int32', 'float32']:\n",
    "    print(\"\\n\" + \"=\"*70)\n",
    "    print(\"CORRELATION ANALYSIS\")\n",
    "    print(\"=\"*70)\n",
    "    \n",
    "    # Sample correlation matrix (top symptoms only)\n",
    "    symptom_sums = df[symptom_cols].sum().sort_values(ascending=False)\n",
    "    top_symptoms = symptom_sums.head(15).index\n",
    "    correlation_matrix = df[top_symptoms].corr()\n",
    "    \n",
    "    plt.figure(figsize=(12, 10))\n",
    "    sns.heatmap(correlation_matrix, annot=True, fmt='.2f', cmap='coolwarm', \n",
    "                center=0, square=True, linewidths=0.5, cbar_kws={\"shrink\": 0.8})\n",
    "    plt.title('Correlation Matrix - Top 15 Symptoms', fontsize=16, fontweight='bold')\n",
    "    plt.tight_layout()\n",
    "    plt.show()"
   ]
  },
  {
   "cell_type": "code",
   "execution_count": null,
   "id": "7cc72e51-b5d1-4a8e-b5cd-793f13e20eeb",
   "metadata": {},
   "outputs": [],
   "source": [
    "### 4.5 Data Distribution Visualizations"
   ]
  },
  {
   "cell_type": "code",
   "execution_count": null,
   "id": "bcb6fcb2-baf4-426b-94a1-7051ff42c8be",
   "metadata": {},
   "outputs": [],
   "source": [
    "print(\"\\n\" + \"=\"*70)\n",
    "print(\"DATA DISTRIBUTION VISUALIZATIONS\")\n",
    "print(\"=\"*70)\n",
    "\n",
    "# Distribution of number of symptoms per case\n",
    "if df[symptom_cols].dtypes[0] in ['int64', 'float64', 'int32', 'float32']:\n",
    "    df['total_symptoms'] = df[symptom_cols].sum(axis=1)\n",
    "    \n",
    "    plt.figure(figsize=(12, 6))\n",
    "    plt.hist(df['total_symptoms'], bins=30, color='lightgreen', edgecolor='black', alpha=0.7)\n",
    "    plt.title('Distribution of Number of Symptoms per Case', fontsize=16, fontweight='bold')\n",
    "    plt.xlabel('Number of Symptoms', fontsize=12)\n",
    "    plt.ylabel('Frequency', fontsize=12)\n",
    "    plt.grid(axis='y', alpha=0.3)\n",
    "    plt.axvline(df['total_symptoms'].mean(), color='red', linestyle='--', \n",
    "                linewidth=2, label=f'Mean: {df[\"total_symptoms\"].mean():.2f}')\n",
    "    plt.legend()\n",
    "    plt.tight_layout()\n",
    "    plt.show()\n",
    "    \n",
    "    print(f\"\\nSymptom Count Statistics:\")\n",
    "    print(f\"  - Average: {df['total_symptoms'].mean():.2f}\")\n",
    "    print(f\"  - Median: {df['total_symptoms'].median():.2f}\")\n",
    "    print(f\"  - Min: {df['total_symptoms'].min():.0f}\")\n",
    "    print(f\"  - Max: {df['total_symptoms'].max():.0f}\")\n",
    "    print(f\"  - Std: {df['total_symptoms'].std():.2f}\")"
   ]
  },
  {
   "cell_type": "code",
   "execution_count": null,
   "id": "080108b8-8dfa-420d-9e13-75d3a63c3113",
   "metadata": {},
   "outputs": [],
   "source": [
    "# Box plot of symptoms per disease\n",
    "if 'total_symptoms' in df.columns:\n",
    "    # Show top 10 diseases only\n",
    "    top_diseases = df[target_col].value_counts().head(10).index\n",
    "    df_top = df[df[target_col].isin(top_diseases)]\n",
    "    \n",
    "    plt.figure(figsize=(14, 6))\n",
    "    sns.boxplot(data=df_top, x=target_col, y='total_symptoms', palette='Set2')\n",
    "    plt.title('Symptom Count by Disease (Top 10)', fontsize=16, fontweight='bold')\n",
    "    plt.xlabel('Disease', fontsize=12)\n",
    "    plt.ylabel('Number of Symptoms', fontsize=12)\n",
    "    plt.xticks(rotation=45, ha='right')\n",
    "    plt.grid(axis='y', alpha=0.3)\n",
    "    plt.tight_layout()\n",
    "    plt.show()"
   ]
  },
  {
   "cell_type": "code",
   "execution_count": null,
   "id": "a70f9615-2116-4a13-9686-d7b7fabd0aee",
   "metadata": {},
   "outputs": [],
   "source": [
    "---\n",
    "## Section 5: Preprocessing Techniques"
   ]
  },
  {
   "cell_type": "code",
   "execution_count": null,
   "id": "07053ec3-4504-4981-8c7b-096106cf7c2a",
   "metadata": {},
   "outputs": [],
   "source": [
    "# Create a copy for preprocessing\n",
    "df_processed = df.copy()\n",
    "\n",
    "print(\"=\"*70)\n",
    "print(\"PREPROCESSING STEPS\")\n",
    "print(\"=\"*70)\n",
    "print(\"\\nCreating a copy of the dataset for preprocessing...\")\n",
    "print(f\"Original shape: {df.shape}\")"
   ]
  },
  {
   "cell_type": "code",
   "execution_count": null,
   "id": "d27ebc7b-2087-4077-a3ac-99e8bd4b43bd",
   "metadata": {},
   "outputs": [],
   "source": [
    "### 5.1 Handle Missing Values"
   ]
  },
  {
   "cell_type": "code",
   "execution_count": null,
   "id": "48f46f60-f590-431f-8091-bd17f6aabb20",
   "metadata": {},
   "outputs": [],
   "source": [
    "print(\"\\n1. HANDLING MISSING VALUES\")\n",
    "print(\"-\"*70)\n",
    "\n",
    "total_missing = df_processed.isnull().sum().sum()\n",
    "\n",
    "if total_missing > 0:\n",
    "    print(f\"Missing values detected: {total_missing}\")\n",
    "    print(\"\\nApplying preprocessing strategies...\")\n",
    "    \n",
    "    # For symptom columns - fill with 0\n",
    "    for col in symptom_cols:\n",
    "        if df_processed[col].isnull().sum() > 0:\n",
    "            missing_count = df_processed[col].isnull().sum()\n",
    "            df_processed[col].fillna(0, inplace=True)\n",
    "            print(f\"   ✓ Filled {missing_count} missing values in '{col}' with 0\")\n",
    "    \n",
    "    # For target variable - remove rows\n",
    "    if df_processed[target_col].isnull().sum() > 0:\n",
    "        rows_before = len(df_processed)\n",
    "        df_processed = df_processed.dropna(subset=[target_col])\n",
    "        rows_after = len(df_processed)\n",
    "        print(f\"   ✓ Removed {rows_before - rows_after} rows with missing labels\")\n",
    "    \n",
    "    print(f\"\\n Justification:\")\n",
    "    print(f\"   • Symptom missing values → 0 (symptom not present)\")\n",
    "    print(f\"   • Missing labels removed (need labeled data for ML)\")\n",
    "else:\n",
    "    print(\"✓ No missing values found.\")\n",
    "\n",
    "print(f\"\\nShape after: {df_processed.shape}\")"
   ]
  },
  {
   "cell_type": "code",
   "execution_count": null,
   "id": "bd433a5a-7965-4916-bf0e-33a3b862d43a",
   "metadata": {},
   "outputs": [],
   "source": [
    "### 5.2 Remove Duplicates"
   ]
  },
  {
   "cell_type": "code",
   "execution_count": null,
   "id": "0b897e56-e1df-4f21-9023-14addb960beb",
   "metadata": {},
   "outputs": [],
   "source": [
    "print(\"\\n2. REMOVING DUPLICATES\")\n",
    "print(\"-\"*70)\n",
    "\n",
    "duplicates = df_processed.duplicated().sum()\n",
    "if duplicates > 0:\n",
    "    df_processed = df_processed.drop_duplicates()\n",
    "    print(f\"   ✓ Removed {duplicates} duplicate rows\")\n",
    "    print(f\"\\n Justification:\")\n",
    "    print(f\"   • Duplicates can bias the model\")\n",
    "else:\n",
    "    print(\"✓ No duplicates found.\")\n",
    "\n",
    "print(f\"\\nShape after: {df_processed.shape}\")"
   ]
  },
  {
   "cell_type": "code",
   "execution_count": null,
   "id": "41000fce-3898-4aa5-8026-c65b55b90d6d",
   "metadata": {},
   "outputs": [],
   "source": [
    "### 5.3 Data Type Conversion"
   ]
  },
  {
   "cell_type": "code",
   "execution_count": null,
   "id": "c6f44b67-b0b6-465d-a71a-bfa5c7b0edfd",
   "metadata": {},
   "outputs": [],
   "source": [
    "print(\"\\n3. DATA TYPE CONVERSION\")\n",
    "print(\"-\"*70)\n",
    "\n",
    "# Ensure symptom columns are numeric\n",
    "conversion_needed = False\n",
    "converted_cols = []\n",
    "\n",
    "for col in symptom_cols:\n",
    "    if df_processed[col].dtype == 'object':\n",
    "        conversion_needed = True\n",
    "        df_processed[col] = pd.to_numeric(df_processed[col], errors='coerce')\n",
    "        df_processed[col].fillna(0, inplace=True)\n",
    "        converted_cols.append(col)\n",
    "\n",
    "if conversion_needed:\n",
    "    print(f\"   ✓ Converted {len(converted_cols)} columns to numeric\")\n",
    "    print(f\"\\n Justification: ML algorithms require numerical input\")\n",
    "else:\n",
    "    print(\"✓ All symptom columns are already numeric.\")\n",
    "\n",
    "print(f\"\\nData types: {df_processed.dtypes.value_counts().to_dict()}\")"
   ]
  },
  {
   "cell_type": "code",
   "execution_count": null,
   "id": "fc6acf9f-83d2-4955-9076-e8cf18875e50",
   "metadata": {},
   "outputs": [],
   "source": [
    "### 5.4 Feature Engineering"
   ]
  },
  {
   "cell_type": "code",
   "execution_count": null,
   "id": "8297bde1-7e2b-4b10-b4f0-6afd7ec41374",
   "metadata": {},
   "outputs": [],
   "source": [
    "print(\"\\n4. FEATURE ENGINEERING\")\n",
    "print(\"-\"*70)\n",
    "\n",
    "# Create symptom count feature\n",
    "if 'total_symptoms' not in df_processed.columns:\n",
    "    df_processed['total_symptoms'] = df_processed[symptom_cols].sum(axis=1)\n",
    "    print(\"   ✓ Created 'total_symptoms' feature\")\n",
    "    print(f\"\\n Justification:\")\n",
    "    print(f\"   • Total symptom count may help classification\")\n",
    "    print(f\"   • Provides aggregate information\")\n",
    "    \n",
    "    print(f\"\\n   Statistics:\")\n",
    "    print(f\"   - Mean: {df_processed['total_symptoms'].mean():.2f}\")\n",
    "    print(f\"   - Min: {df_processed['total_symptoms'].min():.0f}\")\n",
    "    print(f\"   - Max: {df_processed['total_symptoms'].max():.0f}\")\n",
    "else:\n",
    "    print(\"✓ 'total_symptoms' already exists\")"
   ]
  },
  {
   "cell_type": "code",
   "execution_count": null,
   "id": "283d6c68-50fe-4956-aca6-7e803786f273",
   "metadata": {},
   "outputs": [],
   "source": [
    "### 5.5 Encoding Target Variable"
   ]
  },
  {
   "cell_type": "code",
   "execution_count": null,
   "id": "03ec0018-1cf1-412a-acef-d21a61303050",
   "metadata": {},
   "outputs": [],
   "source": [
    "print(\"\\n5. ENCODING TARGET VARIABLE\")\n",
    "print(\"-\"*70)\n",
    "\n",
    "from sklearn.preprocessing import LabelEncoder\n",
    "\n",
    "# Encode disease labels\n",
    "le = LabelEncoder()\n",
    "df_processed['disease_encoded'] = le.fit_transform(df_processed[target_col])\n",
    "\n",
    "print(f\"   ✓ Encoded disease labels to numeric values\")\n",
    "print(f\"   - Number of classes: {len(le.classes_)}\")\n",
    "print(f\"\\nMapping (first 10):\")\n",
    "for i, disease in enumerate(le.classes_[:10]):\n",
    "    print(f\"   {i}: {disease}\")\n",
    "\n",
    "print(f\"\\n Justification: ML algorithms need numeric labels\")"
   ]
  },
  {
   "cell_type": "code",
   "execution_count": null,
   "id": "7065c055-2696-46e3-8fad-9bb67e4fb767",
   "metadata": {},
   "outputs": [],
   "source": [
    "### 5.6 Class Imbalance Analysis"
   ]
  },
  {
   "cell_type": "code",
   "execution_count": null,
   "id": "7ce38ee1-f6f6-4661-a7f9-bd3c1525134f",
   "metadata": {},
   "outputs": [],
   "source": [
    "print(\"\\n6. CLASS IMBALANCE ANALYSIS\")\n",
    "print(\"-\"*70)\n",
    "\n",
    "class_distribution = df_processed[target_col].value_counts()\n",
    "imbalance_ratio = class_distribution.max() / class_distribution.min()\n",
    "\n",
    "if imbalance_ratio > 3:\n",
    "    print(f\"   ⚠ Class imbalance detected (ratio: {imbalance_ratio:.2f}:1)\")\n",
    "    print(f\"\\n   Strategies for Phase 2:\")\n",
    "    print(f\"   • SMOTE (Synthetic Minority Over-sampling)\")\n",
    "    print(f\"   • Class weighting\")\n",
    "    print(f\"   • Undersampling majority class\")\n",
    "    print(f\"   • Ensemble methods\")\n",
    "else:\n",
    "    print(f\"   ✓ Classes relatively balanced (ratio: {imbalance_ratio:.2f}:1)\")"
   ]
  },
  {
   "cell_type": "code",
   "execution_count": null,
   "id": "148e3ac1-c8a7-4821-942f-6721a966521a",
   "metadata": {},
   "outputs": [],
   "source": [
    "### 5.7 Preprocessing Summary"
   ]
  },
  {
   "cell_type": "code",
   "execution_count": null,
   "id": "ca63d8dd-1c45-42b4-a7a8-8ddca718be0f",
   "metadata": {},
   "outputs": [],
   "source": [
    "print(\"\\n\" + \"=\"*70)\n",
    "print(\"PREPROCESSING SUMMARY\")\n",
    "print(\"=\"*70)\n",
    "\n",
    "print(f\"\\nOriginal dataset: {df.shape}\")\n",
    "print(f\"Processed dataset: {df_processed.shape}\")\n",
    "print(f\"Rows removed: {df.shape[0] - df_processed.shape[0]}\")\n",
    "print(f\"Features: {df_processed.shape[1]}\")\n",
    "\n",
    "# Save processed data\n",
    "df_processed.to_csv('Dataset/diseases_symptoms_processed.csv', index=False)\n",
    "print(f\"\\n✓ Processed data saved to 'Dataset/diseases_symptoms_processed.csv'\")\n",
    "\n",
    "print(f\"\\nProcessed Data Preview:\")\n",
    "display(df_processed.head())"
   ]
  },
  {
   "cell_type": "code",
   "execution_count": null,
   "id": "4fb41797-4613-450e-9d66-4aafd166d0b9",
   "metadata": {},
   "outputs": [],
   "source": [
    "---\n",
    "## Section 6: Final Summary and Key Insights"
   ]
  },
  {
   "cell_type": "code",
   "execution_count": null,
   "id": "12da906f-0a6f-4e5c-8144-3a6163e5c314",
   "metadata": {},
   "outputs": [],
   "source": [
    "print(\"=\"*70)\n",
    "print(\"KEY INSIGHTS FROM DATA EXPLORATION\")\n",
    "print(\"=\"*70)\n",
    "\n",
    "print(f\"\"\"\n",
    "1. DATASET CHARACTERISTICS:\n",
    "   - Total samples: {df_processed.shape[0]}\n",
    "   - Number of features: {df_processed.shape[1]}\n",
    "   - Number of diseases: {df_processed[target_col].nunique()}\n",
    "   - Average symptoms per case: {df_processed['total_symptoms'].mean():.2f}\n",
    "\n",
    "2. DATA QUALITY:\n",
    "   - Missing values: {'Handled' if total_missing > 0 else 'None'}\n",
    "   - Duplicates: {'Removed' if duplicates > 0 else 'None'}\n",
    "   - Data types: Consistent and numeric\n",
    "\n",
    "3. CLASS DISTRIBUTION:\n",
    "   - Most common disease: {class_distribution.idxmax()}\n",
    "   - Least common disease: {class_distribution.idxmin()}\n",
    "   - Imbalance ratio: {imbalance_ratio:.2f}:1\n",
    "\n",
    "4. PREPROCESSING APPLIED:\n",
    "   ✓ Missing value imputation\n",
    "   ✓ Duplicate removal\n",
    "   ✓ Feature encoding\n",
    "   ✓ Feature engineering (total_symptoms)\n",
    "\n",
    "5. READINESS FOR PHASE 2:\n",
    "   ✓ Dataset is clean and preprocessed\n",
    "   ✓ Features are numeric\n",
    "   ✓ Class imbalance identified\n",
    "   ✓ Data saved and ready for ML\n",
    "\n",
    "6. NEXT STEPS (Phase 2):\n",
    "   • Apply supervised learning algorithms\n",
    "   • Compare model performance\n",
    "   • Handle class imbalance if needed\n",
    "   • Fine-tune hyperparameters\n",
    "\"\"\")\n",
    "\n",
    "print(\"=\"*70)\n",
    "print(\"Phase 1 Complete!\")\n",
    "print(\"=\"*70)"
   ]
  },
  {
   "cell_type": "code",
   "execution_count": null,
   "id": "30606820-ade0-4862-9770-8122701c73a5",
   "metadata": {},
   "outputs": [],
   "source": []
  }
 ],
 "metadata": {
  "kernelspec": {
   "display_name": "Python 3 (ipykernel)",
   "language": "python",
   "name": "python3"
  },
  "language_info": {
   "name": ""
  }
 },
 "nbformat": 4,
 "nbformat_minor": 5
}
